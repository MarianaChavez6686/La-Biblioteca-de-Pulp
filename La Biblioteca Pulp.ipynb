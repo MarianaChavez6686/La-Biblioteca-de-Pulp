{
 "cells": [
  {
   "cell_type": "markdown",
   "metadata": {},
   "source": [
    "Veremos un ejemplo para resolver problemas de programacion lineal. El problema es maximizar $2x+y$ sujeto a las restrincciones: $4x+y\\leq 150$, $2x-3y\\geq -40$ y $x, y \\geq 0$"
   ]
  },
  {
   "cell_type": "code",
   "execution_count": 19,
   "metadata": {},
   "outputs": [],
   "source": [
    "from pulp import *\n",
    "x = LpVariable(\"x\", 0)\n",
    "y = LpVariable(\"y\", 0)\n",
    "prob = LpProblem(\"Ejemplo\", LpMaximize)\n",
    "prob += 4*x + y <= 150\n",
    "prob += 2*x - 3*y <= -40\n",
    "prob += 2*x + y"
   ]
  },
  {
   "cell_type": "code",
   "execution_count": 20,
   "metadata": {},
   "outputs": [
    {
     "data": {
      "text/plain": [
       "Ejemplo:\n",
       "MAXIMIZE\n",
       "2*x + 1*y + 0\n",
       "SUBJECT TO\n",
       "_C1: 4 x + y <= 150\n",
       "\n",
       "_C2: 2 x - 3 y <= -40\n",
       "\n",
       "VARIABLES\n",
       "x Continuous\n",
       "y Continuous"
      ]
     },
     "execution_count": 20,
     "metadata": {},
     "output_type": "execute_result"
    }
   ],
   "source": [
    "prob"
   ]
  },
  {
   "cell_type": "code",
   "execution_count": 3,
   "metadata": {},
   "outputs": [
    {
     "data": {
      "text/plain": [
       "(0.0, 150.0)"
      ]
     },
     "execution_count": 3,
     "metadata": {},
     "output_type": "execute_result"
    }
   ],
   "source": [
    "status = prob.solve()\n",
    "value(x), value(y)"
   ]
  },
  {
   "cell_type": "code",
   "execution_count": 6,
   "metadata": {},
   "outputs": [
    {
     "data": {
      "text/plain": [
       "(150.0, 'Optimal')"
      ]
     },
     "execution_count": 6,
     "metadata": {},
     "output_type": "execute_result"
    }
   ],
   "source": [
    "value(prob.objective), LpStatus[prob.status]"
   ]
  },
  {
   "cell_type": "markdown",
   "metadata": {},
   "source": [
    "Aquí vamos a escribir los ejercicios que resolvimos la semana pasada.\n",
    "\n",
    "Ejercicio 1. Resuelve:\n",
    "\n",
    "Maximizar $2x+2y$\n",
    "\n",
    "Sujeto a: $x, y\\geq 0$, $2x+y\\leq 4$, $-x-2y\\geq -5$"
   ]
  },
  {
   "cell_type": "code",
   "execution_count": 21,
   "metadata": {},
   "outputs": [],
   "source": [
    "from pulp import *\n",
    "x1 = LpVariable(\"x1\", 0)\n",
    "y1 = LpVariable(\"y1\", 0)\n",
    "prob1 = LpProblem(\"Ejercicio_1\", LpMaximize)\n",
    "prob1 += 2*x1 + y1 <= 4\n",
    "prob1 += -x1 - 2*y1 >= -5\n",
    "prob1 += 2*x1 + 2*y1"
   ]
  },
  {
   "cell_type": "code",
   "execution_count": 22,
   "metadata": {},
   "outputs": [
    {
     "data": {
      "text/plain": [
       "Ejercicio_1:\n",
       "MAXIMIZE\n",
       "2*x1 + 2*y1 + 0\n",
       "SUBJECT TO\n",
       "_C1: 2 x1 + y1 <= 4\n",
       "\n",
       "_C2: - x1 - 2 y1 >= -5\n",
       "\n",
       "VARIABLES\n",
       "x1 Continuous\n",
       "y1 Continuous"
      ]
     },
     "execution_count": 22,
     "metadata": {},
     "output_type": "execute_result"
    }
   ],
   "source": [
    "prob1"
   ]
  },
  {
   "cell_type": "code",
   "execution_count": 23,
   "metadata": {},
   "outputs": [
    {
     "data": {
      "text/plain": [
       "(1.0, 2.0)"
      ]
     },
     "execution_count": 23,
     "metadata": {},
     "output_type": "execute_result"
    }
   ],
   "source": [
    "status = prob1.solve()\n",
    "value(x1), value(y1)"
   ]
  },
  {
   "cell_type": "code",
   "execution_count": 24,
   "metadata": {},
   "outputs": [
    {
     "data": {
      "text/plain": [
       "(6.0, 'Optimal')"
      ]
     },
     "execution_count": 24,
     "metadata": {},
     "output_type": "execute_result"
    }
   ],
   "source": [
    "value(prob1.objective), LpStatus[prob1.status]"
   ]
  },
  {
   "cell_type": "markdown",
   "metadata": {},
   "source": [
    "Ejercicio 2. Resuelve:\n",
    "\n",
    "Minimizar $-5x-y$\n",
    "\n",
    "Sujeto a: $x, y\\geq 0$, $3x+y\\leq 7$, $-x-y\\geq -3$, $-x-2y\\geq -5$"
   ]
  },
  {
   "cell_type": "code",
   "execution_count": 25,
   "metadata": {},
   "outputs": [],
   "source": [
    "from pulp import *\n",
    "x2 = LpVariable(\"x2\", 0)\n",
    "y2 = LpVariable(\"y2\", 0)\n",
    "prob2 = LpProblem(\"Ejercicio_2\", LpMinimize)\n",
    "prob2 += 3*x2 + y2 <= 7\n",
    "prob2 += -x2 - y2 >= -3\n",
    "prob2 += -x2-2*y2 >= -5\n",
    "prob2 += -5*x2 - y2"
   ]
  },
  {
   "cell_type": "code",
   "execution_count": 26,
   "metadata": {},
   "outputs": [
    {
     "data": {
      "text/plain": [
       "Ejercicio_2:\n",
       "MINIMIZE\n",
       "-5*x2 + -1*y2 + 0\n",
       "SUBJECT TO\n",
       "_C1: 3 x2 + y2 <= 7\n",
       "\n",
       "_C2: - x2 - y2 >= -3\n",
       "\n",
       "_C3: - x2 - 2 y2 >= -5\n",
       "\n",
       "VARIABLES\n",
       "x2 Continuous\n",
       "y2 Continuous"
      ]
     },
     "execution_count": 26,
     "metadata": {},
     "output_type": "execute_result"
    }
   ],
   "source": [
    "prob2"
   ]
  },
  {
   "cell_type": "code",
   "execution_count": 27,
   "metadata": {},
   "outputs": [
    {
     "data": {
      "text/plain": [
       "(2.3333333, 0.0)"
      ]
     },
     "execution_count": 27,
     "metadata": {},
     "output_type": "execute_result"
    }
   ],
   "source": [
    "status = prob2.solve()\n",
    "value(x2), value(y2)"
   ]
  },
  {
   "cell_type": "code",
   "execution_count": 28,
   "metadata": {},
   "outputs": [
    {
     "data": {
      "text/plain": [
       "(-11.6666665, 'Optimal')"
      ]
     },
     "execution_count": 28,
     "metadata": {},
     "output_type": "execute_result"
    }
   ],
   "source": [
    "value(prob2.objective), LpStatus[prob2.status]"
   ]
  },
  {
   "cell_type": "markdown",
   "metadata": {},
   "source": [
    "Ejercicio 3. Resuelve:\n",
    "\n",
    "Minimizar $x+4y$\n",
    "\n",
    "Sujeto a: $x, y\\geq 0$, $x+y\\leq 7$, $x+y\\geq 5$, $x\\leq 4$, $-y\\geq -4$"
   ]
  },
  {
   "cell_type": "code",
   "execution_count": 29,
   "metadata": {},
   "outputs": [],
   "source": [
    "from pulp import *\n",
    "x3 = LpVariable(\"x3\", 0)\n",
    "y3 = LpVariable(\"y3\", 0)\n",
    "prob3 = LpProblem(\"Ejercicio_3\", LpMinimize)\n",
    "prob3 += x3 + y3 <= 7\n",
    "prob3 += x3 + y3 >= 5\n",
    "prob3 += x3 <= 4\n",
    "prob3 += -y3 >= -4\n",
    "prob3 += x3 + 4*y3"
   ]
  },
  {
   "cell_type": "code",
   "execution_count": 30,
   "metadata": {},
   "outputs": [
    {
     "data": {
      "text/plain": [
       "Ejercicio_3:\n",
       "MINIMIZE\n",
       "1*x3 + 4*y3 + 0\n",
       "SUBJECT TO\n",
       "_C1: x3 + y3 <= 7\n",
       "\n",
       "_C2: x3 + y3 >= 5\n",
       "\n",
       "_C3: x3 <= 4\n",
       "\n",
       "_C4: - y3 >= -4\n",
       "\n",
       "VARIABLES\n",
       "x3 Continuous\n",
       "y3 Continuous"
      ]
     },
     "execution_count": 30,
     "metadata": {},
     "output_type": "execute_result"
    }
   ],
   "source": [
    "prob3"
   ]
  },
  {
   "cell_type": "code",
   "execution_count": 31,
   "metadata": {},
   "outputs": [
    {
     "data": {
      "text/plain": [
       "(4.0, 1.0)"
      ]
     },
     "execution_count": 31,
     "metadata": {},
     "output_type": "execute_result"
    }
   ],
   "source": [
    "status = prob3.solve()\n",
    "value(x3), value(y3)"
   ]
  },
  {
   "cell_type": "code",
   "execution_count": 32,
   "metadata": {},
   "outputs": [
    {
     "data": {
      "text/plain": [
       "(8.0, 'Optimal')"
      ]
     },
     "execution_count": 32,
     "metadata": {},
     "output_type": "execute_result"
    }
   ],
   "source": [
    "value(prob3.objective), LpStatus[prob3.status]"
   ]
  },
  {
   "cell_type": "code",
   "execution_count": null,
   "metadata": {},
   "outputs": [],
   "source": []
  }
 ],
 "metadata": {
  "kernelspec": {
   "display_name": "Python 3",
   "language": "python",
   "name": "python3"
  },
  "language_info": {
   "codemirror_mode": {
    "name": "ipython",
    "version": 3
   },
   "file_extension": ".py",
   "mimetype": "text/x-python",
   "name": "python",
   "nbconvert_exporter": "python",
   "pygments_lexer": "ipython3",
   "version": "3.7.0"
  }
 },
 "nbformat": 4,
 "nbformat_minor": 2
}
